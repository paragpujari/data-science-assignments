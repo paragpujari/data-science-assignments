{
 "cells": [
  {
   "cell_type": "markdown",
   "metadata": {},
   "source": [
    "# Q1. What are the characteristics of the tuples? Is tuple immutable?"
   ]
  },
  {
   "cell_type": "markdown",
   "metadata": {},
   "source": [
    " Ans Characteristics of Tuples\n",
    "\n",
    "1. All the elements in the tuples are ordered.\n",
    "\n",
    "2. Tuples are immutable which means we cannot change the elements in the tuple.\n",
    "\n",
    "3. Tuples can have different types of elements. EX -> int, strings etc.\n",
    "\n",
    "4. Tuples can have duplicate elements.\n",
    "\n",
    "5. All the elements can be accessed by an index position.\n",
    "\n",
    "6. Tuples can be nested within each other allowing the creation of comples data structures.\n",
    "\n",
    "\n",
    "Yes Tuple is immutable and we cannot change the elements in the tuple."
   ]
  },
  {
   "cell_type": "markdown",
   "metadata": {},
   "source": [
    "# Q2. What are the two tuple methods in python? Give an example of each method. Give a reason why tuples have only two in-built methods as compared to Lists."
   ]
  },
  {
   "cell_type": "markdown",
   "metadata": {},
   "source": [
    "  Ans There are two inbuilt methods in the tuples.\n",
    " \n",
    " (i) count -> This method returns the number of occurences of the specified value in the tuple."
   ]
  },
  {
   "cell_type": "code",
   "execution_count": 1,
   "metadata": {},
   "outputs": [
    {
     "name": "stdout",
     "output_type": "stream",
     "text": [
      "3\n"
     ]
    }
   ],
   "source": [
    "ans = (1, 2, 3, 1, 4, 1, 5)\n",
    "result = ans.count(1)\n",
    "print(result)  "
   ]
  },
  {
   "cell_type": "markdown",
   "metadata": {},
   "source": [
    "(ii) index -> This method returns the index position  of the first occurances of the specified value in the tuple."
   ]
  },
  {
   "cell_type": "code",
   "execution_count": 3,
   "metadata": {},
   "outputs": [
    {
     "name": "stdout",
     "output_type": "stream",
     "text": [
      "1\n"
     ]
    }
   ],
   "source": [
    "ans = (1, 2, 3, 4, 5)\n",
    "x = ans.index(2)\n",
    "print(x)  "
   ]
  },
  {
   "cell_type": "markdown",
   "metadata": {},
   "source": [
    "Tuples have only two in-built methods as compared to Lists because the elements in the tuples are immutable and do not support the operations that modify the elements."
   ]
  },
  {
   "cell_type": "markdown",
   "metadata": {},
   "source": [
    "# Q3.  Which collection datatypes in python do not allow duplicate items? Write a code using a set to remove duplicates from the given list.\n",
    "\n",
    "List = [1, 1, 1, 2, 1, 3, 1, 4, 2, 1, 2, 2, 2, 3, 2, 4, 3, 1, 3, 2, 3, 3, 3, 4, 4, 1, 4, 2, 4, 3, 4, 4]"
   ]
  },
  {
   "cell_type": "markdown",
   "metadata": {},
   "source": [
    " Sets does not allow duplication of elements."
   ]
  },
  {
   "cell_type": "code",
   "execution_count": 4,
   "metadata": {},
   "outputs": [
    {
     "name": "stdout",
     "output_type": "stream",
     "text": [
      "[1, 2, 3, 4]\n"
     ]
    }
   ],
   "source": [
    "# Given list with duplicates\n",
    "my_list = [1, 1, 1, 2, 1, 3, 1, 4, 2, 1, 2, 2, 2, 3, 2, 4, 3, 1, 3, 2, 3, 3, 3, 4, 4, 1, 4, 2, 4, 3, 4, 4]\n",
    "\n",
    "# Convert the list to a set to remove duplicates\n",
    "unique_set = set(my_list)\n",
    "\n",
    "# Convert the set back to a list if needed\n",
    "unique_list = list(unique_set)\n",
    "\n",
    "# Print the result\n",
    "print(unique_list)\n"
   ]
  },
  {
   "cell_type": "markdown",
   "metadata": {},
   "source": [
    "# Q4. Explain the difference between the union() and update() methods for a set. Give an example of each method."
   ]
  },
  {
   "cell_type": "markdown",
   "metadata": {},
   "source": [
    " # Union\n",
    "It results in a new set that contain the unique set of all the elements.\n",
    "\n",
    "# Update\n",
    "It modifies the elements in the set by adding new elements in the set."
   ]
  },
  {
   "cell_type": "code",
   "execution_count": 5,
   "metadata": {},
   "outputs": [
    {
     "name": "stdout",
     "output_type": "stream",
     "text": [
      "{1, 2, 3, 4, 5}\n",
      "{1, 2, 3, 4, 5}\n"
     ]
    }
   ],
   "source": [
    "set1 = {1, 2, 3}\n",
    "set2 = {3, 4, 5}\n",
    "\n",
    "# Using union() method\n",
    "\n",
    "result_union = set1.union(set2)\n",
    "print(result_union)  # Output: {1, 2, 3, 4, 5}\n",
    "\n",
    "# Using | operator\n",
    "\n",
    "result_union_operator = set1 | set2\n",
    "print(result_union_operator)  # Output: {1, 2, 3, 4, 5}\n"
   ]
  },
  {
   "cell_type": "markdown",
   "metadata": {},
   "source": [
    "Key Difference:\n",
    "\n",
    "union() returns a new set containing the elements of both sets without modifying the original sets.\n",
    "\n",
    "update() modifies the set on which it is called in-place by adding elements from another set (or iterable)."
   ]
  },
  {
   "cell_type": "markdown",
   "metadata": {},
   "source": [
    "# Q5. What is a dictionary? Give an example. Also, state whether a dictionary is ordered or unordered."
   ]
  },
  {
   "cell_type": "markdown",
   "metadata": {},
   "source": [
    " A dictionary in Python is a collection of key-value pairs, where each key must be unique. It is implemented as a hash table, allowing for efficient lookups, insertions, and deletions. Dictionaries are often used to store and retrieve data in a way that makes it easy to understand and use.\n"
   ]
  },
  {
   "cell_type": "code",
   "execution_count": 7,
   "metadata": {},
   "outputs": [
    {
     "name": "stdout",
     "output_type": "stream",
     "text": [
      "John\n",
      "25\n",
      "{'name': 'John', 'age': 26, 'city': 'New York', 'occupation': 'Engineer'}\n"
     ]
    }
   ],
   "source": [
    "# Example of dictionary:\n",
    "\n",
    "# Creating a dictionary\n",
    "my_dict = {'name': 'John', 'age': 25, 'city': 'New York'}\n",
    "\n",
    "# Accessing values using keys\n",
    "print(my_dict['name'])  # Output: John\n",
    "print(my_dict['age'])   # Output: 25\n",
    "\n",
    "# Modifying a value\n",
    "my_dict['age'] = 26\n",
    "\n",
    "# Adding a new key-value pair\n",
    "my_dict['occupation'] = 'Engineer'\n",
    "\n",
    "# Displaying the updated dictionary\n",
    "print(my_dict)\n",
    "# Output: {'name': 'John', 'age': 26, 'city': 'New York', 'occupation': 'Engineer'}\n"
   ]
  },
  {
   "cell_type": "code",
   "execution_count": 8,
   "metadata": {},
   "outputs": [],
   "source": [
    "# Dictionary have unordered elements where the order of key value pairs are not guranteed."
   ]
  },
  {
   "cell_type": "markdown",
   "metadata": {},
   "source": [
    "# Q6. Can we create a nested dictionary? If so, please give an example by creating a simple one-level nested dictionary."
   ]
  },
  {
   "cell_type": "markdown",
   "metadata": {},
   "source": [
    "Yes, you can create a nested dictionary in Python. A nested dictionary is a dictionary where the values are also dictionaries. This allows for a hierarchical structure, and you can access values using multiple keys. Here's an example of a simple one-level nested dictionary:"
   ]
  },
  {
   "cell_type": "code",
   "execution_count": 9,
   "metadata": {},
   "outputs": [
    {
     "name": "stdout",
     "output_type": "stream",
     "text": [
      "30\n",
      "Designer\n",
      "60000\n"
     ]
    }
   ],
   "source": [
    "# Creating a one-level nested dictionary\n",
    "employee_data = {\n",
    "    'John': {'age': 30, 'position': 'Developer', 'salary': 50000},\n",
    "    'Alice': {'age': 28, 'position': 'Designer', 'salary': 45000},\n",
    "    'Bob': {'age': 35, 'position': 'Manager', 'salary': 60000}\n",
    "}\n",
    "\n",
    "# Accessing values in the nested dictionary\n",
    "print(employee_data['John']['age'])     \n",
    "print(employee_data['Alice']['position'])  \n",
    "print(employee_data['Bob']['salary'])      \n"
   ]
  },
  {
   "cell_type": "markdown",
   "metadata": {},
   "source": [
    "# Q7. Using setdefault() method, create key named topics in the given dictionary and also add the value of the key as this list ['Python', 'Machine Learning’, 'Deep Learning']\n",
    "\n",
    "# dict1 = {'language' : 'Python', 'course': 'Data Science Masters'}"
   ]
  },
  {
   "cell_type": "markdown",
   "metadata": {},
   "source": [
    " The setdefault() method in Python is used to insert a key with a default value into a dictionary if the key is not present. If the key is already present, it returns the value associated with the key"
   ]
  },
  {
   "cell_type": "code",
   "execution_count": 10,
   "metadata": {},
   "outputs": [
    {
     "name": "stdout",
     "output_type": "stream",
     "text": [
      "{'language': 'Python', 'course': 'Data Science Masters', 'topics': ['Python', 'Machine Learning', 'Deep Learning']}\n"
     ]
    }
   ],
   "source": [
    "dict1 = {'language': 'Python', 'course': 'Data Science Masters'}\n",
    "\n",
    "# Using setdefault() to add the 'topics' key and its value\n",
    "dict1.setdefault('topics', ['Python', 'Machine Learning', 'Deep Learning'])\n",
    "\n",
    "# Displaying the updated dictionary\n",
    "print(dict1)\n"
   ]
  },
  {
   "cell_type": "markdown",
   "metadata": {},
   "source": [
    "# Q8. What are the three view objects in dictionaries? Use the three in-built methods in python to display these three view objects for the given dictionary.\n",
    "\n",
    "# dict1 = {'Sport': 'Cricket' , 'Teams': ['India', 'Australia', 'England', 'South Africa', 'Sri Lanka', 'New Zealand']}"
   ]
  },
  {
   "cell_type": "markdown",
   "metadata": {},
   "source": [
    " here are three view objects that provide dynamic views of the dictionary's contents. These view objects are:\n",
    "\n",
    "# dict.keys() View:\n",
    "This view returns a dynamic view of the keys in the dictionary.\n",
    "\n",
    "\n",
    "# dict.values() View:\n",
    "This view returns a dynamic view of the values in the dictionary.\n",
    "\n",
    "# dict.items() View:\n",
    "This view returns a dynamic view of the key-value pairs (items) in the dictionary."
   ]
  },
  {
   "cell_type": "code",
   "execution_count": 11,
   "metadata": {},
   "outputs": [
    {
     "name": "stdout",
     "output_type": "stream",
     "text": [
      "Keys View: dict_keys(['Sport', 'Teams'])\n",
      "Values View: dict_values(['Cricket', ['India', 'Australia', 'England', 'South Africa', 'Sri Lanka', 'New Zealand']])\n",
      "Items View: dict_items([('Sport', 'Cricket'), ('Teams', ['India', 'Australia', 'England', 'South Africa', 'Sri Lanka', 'New Zealand'])])\n"
     ]
    }
   ],
   "source": [
    "dict1 = {'Sport': 'Cricket', 'Teams': ['India', 'Australia', 'England', 'South Africa', 'Sri Lanka', 'New Zealand']}\n",
    "\n",
    "# Displaying the keys view\n",
    "keys_view = dict1.keys()\n",
    "print(\"Keys View:\", keys_view)\n",
    "\n",
    "# Displaying the values view\n",
    "values_view = dict1.values()\n",
    "print(\"Values View:\", values_view)\n",
    "\n",
    "# Displaying the items view\n",
    "items_view = dict1.items()\n",
    "print(\"Items View:\", items_view)\n"
   ]
  },
  {
   "cell_type": "code",
   "execution_count": null,
   "metadata": {},
   "outputs": [],
   "source": []
  }
 ],
 "metadata": {
  "kernelspec": {
   "display_name": "Python 3",
   "language": "python",
   "name": "python3"
  },
  "language_info": {
   "codemirror_mode": {
    "name": "ipython",
    "version": 3
   },
   "file_extension": ".py",
   "mimetype": "text/x-python",
   "name": "python",
   "nbconvert_exporter": "python",
   "pygments_lexer": "ipython3",
   "version": "3.8.3"
  }
 },
 "nbformat": 4,
 "nbformat_minor": 4
}
