{
 "cells": [
  {
   "cell_type": "markdown",
   "metadata": {},
   "source": [
    "Q1. Which keyword is used to create a function? Create a function to return a list of odd numbers in the range of 1 to 25."
   ]
  },
  {
   "cell_type": "markdown",
   "metadata": {},
   "source": [
    "# Ans \n",
    "The keyword which is used to create a function is def. Here's an example of a function that returns a list of odd numbers in the range of 1 to 25:"
   ]
  },
  {
   "cell_type": "code",
   "execution_count": 1,
   "metadata": {},
   "outputs": [
    {
     "name": "stdout",
     "output_type": "stream",
     "text": [
      "[1, 3, 5, 7, 9, 11, 13, 15, 17, 19, 21, 23, 25]\n"
     ]
    }
   ],
   "source": [
    "def get_odd_numbers():\n",
    "    odd_numbers = [num for num in range(1, 26) if num % 2 != 0]\n",
    "    return odd_numbers\n",
    "\n",
    "# Call the function and print the result\n",
    "result = get_odd_numbers()\n",
    "print(result)\n"
   ]
  },
  {
   "cell_type": "markdown",
   "metadata": {},
   "source": [
    "Q2. Why *args and **kwargs is used in some functions? Create a function each for *args and **kwargs to\n",
    "demonstrate their use."
   ]
  },
  {
   "cell_type": "markdown",
   "metadata": {},
   "source": [
    "# Ans"
   ]
  },
  {
   "cell_type": "markdown",
   "metadata": {},
   "source": [
    "*args and **kwargs are used in Python functions to allow for a variable number of arguments."
   ]
  },
  {
   "cell_type": "markdown",
   "metadata": {},
   "source": [
    "*args is used to pass a variable number of non-keyword arguments to a function. It allows you to pass any number of arguments to the function.\n",
    "\n",
    "**kwargs is used to pass a variable number of keyword arguments to a function. It allows you to pass any number of keyword arguments to the function."
   ]
  },
  {
   "cell_type": "code",
   "execution_count": 2,
   "metadata": {},
   "outputs": [
    {
     "name": "stdout",
     "output_type": "stream",
     "text": [
      "Using *args:\n",
      "1\n",
      "2\n",
      "three\n",
      "[4, 5]\n",
      "six\n",
      "\n",
      "Using **kwargs:\n",
      "name: John\n",
      "age: 25\n",
      "city: New York\n",
      "occupation: Engineer\n"
     ]
    }
   ],
   "source": [
    "# Example function using *args\n",
    "def print_args(*args):\n",
    "    for arg in args:\n",
    "        print(arg)\n",
    "\n",
    "# Example function using **kwargs\n",
    "def print_kwargs(**kwargs):\n",
    "    for key, value in kwargs.items():\n",
    "        print(f\"{key}: {value}\")\n",
    "\n",
    "# Testing the functions\n",
    "print(\"Using *args:\")\n",
    "print_args(1, 2, \"three\", [4, 5], \"six\")\n",
    "\n",
    "print(\"\\nUsing **kwargs:\")\n",
    "print_kwargs(name=\"John\", age=25, city=\"New York\", occupation=\"Engineer\")\n"
   ]
  },
  {
   "cell_type": "markdown",
   "metadata": {},
   "source": [
    "Q3. What is an iterator in python? Name the method used to initialise the iterator object and the method\n",
    "used for iteration. Use these methods to print the first five elements of the given list [2, 4, 6, 8, 10, 12, 14, 16,\n",
    "18, 20]."
   ]
  },
  {
   "cell_type": "markdown",
   "metadata": {},
   "source": [
    "# Ans"
   ]
  },
  {
   "cell_type": "markdown",
   "metadata": {},
   "source": [
    "An iterator is an object that implements two methods, __iter__() and __next__(), allowing the object to be iterated over in a for loop. The __iter__() method initializes the iterator object, and the __next__() method returns the next element in the iteration."
   ]
  },
  {
   "cell_type": "code",
   "execution_count": 3,
   "metadata": {},
   "outputs": [
    {
     "name": "stdout",
     "output_type": "stream",
     "text": [
      "First five elements:\n",
      "2\n",
      "4\n",
      "6\n",
      "8\n",
      "10\n"
     ]
    }
   ],
   "source": [
    "# Define a list\n",
    "my_list = [2, 4, 6, 8, 10, 12, 14, 16, 18, 20]\n",
    "\n",
    "# Create an iterator object using iter()\n",
    "my_iterator = iter(my_list)\n",
    "\n",
    "# Iterate and print the first five elements using next()\n",
    "print(\"First five elements:\")\n",
    "for _ in range(5):\n",
    "    element = next(my_iterator)\n",
    "    print(element)\n"
   ]
  },
  {
   "cell_type": "markdown",
   "metadata": {},
   "source": [
    "Q4. What is a generator function in python? Why yield keyword is used? Give an example of a generator\n",
    "function."
   ]
  },
  {
   "cell_type": "markdown",
   "metadata": {},
   "source": [
    "# Ans"
   ]
  },
  {
   "cell_type": "markdown",
   "metadata": {},
   "source": [
    "A generator function in Python is a special kind of function that returns an iterator called a generator. Unlike regular functions that use the return keyword to return a value and then exit, generator functions use the yield keyword to produce a series of values over multiple calls. When a generator function is called, it returns a generator iterator, and the function's state is saved. The generator can be iterated over using the next() function or a for loop.\n",
    "\n",
    "The yield keyword is used in a generator function to temporarily suspend its state and produce a value. When the generator is later resumed, it continues from where it left off, allowing it to generate a sequence of values on-the-fly without creating the entire sequence in memory."
   ]
  },
  {
   "cell_type": "code",
   "execution_count": 4,
   "metadata": {},
   "outputs": [
    {
     "name": "stdout",
     "output_type": "stream",
     "text": [
      "Generated squares:\n",
      "0\n",
      "1\n",
      "4\n",
      "9\n",
      "16\n"
     ]
    }
   ],
   "source": [
    "def generate_squares(limit):\n",
    "    n = 0\n",
    "    while n < limit:\n",
    "        yield n ** 2\n",
    "        n += 1\n",
    "\n",
    "# Using the generator function\n",
    "squares_generator = generate_squares(5)\n",
    "\n",
    "# Iterating over the generator using a for loop\n",
    "print(\"Generated squares:\")\n",
    "for square in squares_generator:\n",
    "    print(square)\n"
   ]
  },
  {
   "cell_type": "markdown",
   "metadata": {},
   "source": [
    "Q5. Create a generator function for prime numbers less than 1000. Use the next() method to print the\n",
    "first 20 prime numbers."
   ]
  },
  {
   "cell_type": "code",
   "execution_count": 5,
   "metadata": {},
   "outputs": [
    {
     "name": "stdout",
     "output_type": "stream",
     "text": [
      "First 20 prime numbers:\n",
      "2\n",
      "3\n",
      "5\n",
      "7\n",
      "11\n",
      "13\n",
      "17\n",
      "19\n",
      "23\n",
      "29\n",
      "31\n",
      "37\n",
      "41\n",
      "43\n",
      "47\n",
      "53\n",
      "59\n",
      "61\n",
      "67\n",
      "71\n"
     ]
    }
   ],
   "source": [
    "def is_prime(num):\n",
    "    if num < 2:\n",
    "        return False\n",
    "    for i in range(2, int(num**0.5) + 1):\n",
    "        if num % i == 0:\n",
    "            return False\n",
    "    return True\n",
    "\n",
    "def generate_primes(limit):\n",
    "    count = 0\n",
    "    num = 2\n",
    "    while count < limit:\n",
    "        if is_prime(num):\n",
    "            yield num\n",
    "            count += 1\n",
    "        num += 1\n",
    "\n",
    "# Using the generator function to print the first 20 prime numbers\n",
    "prime_generator = generate_primes(20)\n",
    "\n",
    "print(\"First 20 prime numbers:\")\n",
    "for _ in range(20):\n",
    "    prime = next(prime_generator)\n",
    "    print(prime)\n"
   ]
  },
  {
   "cell_type": "code",
   "execution_count": null,
   "metadata": {},
   "outputs": [],
   "source": []
  }
 ],
 "metadata": {
  "kernelspec": {
   "display_name": "Python 3",
   "language": "python",
   "name": "python3"
  },
  "language_info": {
   "codemirror_mode": {
    "name": "ipython",
    "version": 3
   },
   "file_extension": ".py",
   "mimetype": "text/x-python",
   "name": "python",
   "nbconvert_exporter": "python",
   "pygments_lexer": "ipython3",
   "version": "3.8.3"
  }
 },
 "nbformat": 4,
 "nbformat_minor": 4
}
